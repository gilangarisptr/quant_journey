{
 "cells": [
  {
   "cell_type": "markdown",
   "metadata": {},
   "source": [
    "# Learning About 2 State Economic Modeling in Python\n",
    "In the context of economic models, a \"state\" refers to a particular condition or scenario that an economy can be in. In a two-state economy model, the economy is categorized into two distinct states or regimes. These states represent different economic conditions, typically characterized by varying levels of economic activity, growth, or stability. The purpose of a two-state model is to capture the dynamics and transitions between these states and analyze how economic variables behave in each state.\n",
    "\n",
    "## Several term in Economic Modeling\n",
    "\n",
    "### Economy\n",
    "Economy is an abstract notion that subsumes other elements of the financial model like assets, agents, or money. \"economy\" cannot be seen or touched. Nor can it be formally modeled directly.\n",
    "\n",
    "- Agents\n",
    "    : Agents can be thought as individual human beings active in the economy like people or institutions.\n",
    "\n",
    "- Real Assets\n",
    "    : Real assets refer to tangible or physical assets that have intrinsic value and are typically used for productive purposes or investment. Unlike financial assets such as stocks or bonds, which represent ownership or claims on underlying assets, real assets have inherent value derived from their physical properties or productive capabilities.\n",
    "\n",
    "- Time\n",
    "    : Time is an economic activity timeline, like trading real assets that takes place at discrete points in time only. to simplify, we can use int data type in python to initiate time\n",
    "\n",
    "- Money\n",
    "    Money or Currency, in Economy is available in unlimited supply. Money in general serves as the numeraire in the economy in that the value of one unit of money (think USD, EUR, GBP, etc.) is normalized to exactly 1. The prices for allother goods are then expressed in such units and are fractions or multiples of such units. Formally, units of the currency are represented as (non-negative) real numbers c ∈ ℝ ≥0 ."
   ]
  },
  {
   "cell_type": "markdown",
   "metadata": {},
   "source": [
    "### Cash Flow\n",
    "Combining time with currency leads to the notion of *cash flow*. A pair of cash flows now and one year from now is modeled mathematically as an ordered pair or two-tuple, which combines the two relevant cash flows into one object: c ∈ ℝ 2 with c = c 0 , c 1 and c 0 , c 1 ∈ ℝ.\n",
    "\n",
    "- Return\n",
    "    Consider an investment project with cash flows c = c 0 , c 1 = (–10, 12). The return R ∈ ℝ of the project is the sum of the cash flows R = c 0 + c 1 = –10 + 12 = 2. The rate of return, r ∈ ℝ , is the return, R , divided by c 0\n",
    "\n",
    "- Interest\n",
    "    the rate of return reflects the overall gain or loss on an investment, incorporating income and changes in asset value. On the other hand, the interest rate specifically pertains to the cost of borrowing or the return earned on lending or investing funds.\n",
    "\n",
    "```\n",
    "what is the difference between return rate and interest rate? \n",
    "the rate of return reflects the overall gain or loss on an investment, incorporating income and changes in asset value. On the other hand, the interest rate specifically pertains to the cost of borrowing or the return earned on lending or investing funds.\n",
    "```\n",
    "- Present Value\n",
    "    : A cash flow of, say, c 1 = 12.1 in one year cannot be compared directly in terms of value with a cash flow of c 0 = 12.1 today since interest can be earned on currency units not deployed in a project. \n",
    "    To appropriately compare cash flows in one year with those of today, the present value needs to be calculated. This is accomplished by discounting using the fixed interest rate in the economy. Discounting can be modeled as a function D: ℝ ℝ,c1 -> D c1 , which maps a real number (cash flow in one year) to another real number (cash flow today).\n",
    "\n",
    "- Net Present Value\n",
    "    : \n",
    "    The net present value, NPV is the sum of the cash outflow today and the present value of the cash inflow in n_time:\n",
    "        NPV(c) = c_0 + D(C_1)\n",
    "    where D(C_1) is a function to calculate present value of the cash inflow. if the NPV is positive the project should be conducted; if it is negative, then not.\n"
   ]
  },
  {
   "cell_type": "code",
   "execution_count": null,
   "metadata": {},
   "outputs": [],
   "source": [
    "# time\n",
    "1 + 3\n",
    "\n",
    "# Cashflow\n",
    "# Defines the cash outflow today.\n",
    "c0 = -9.0\n",
    "# Defines the cash inflow one year later.\n",
    "c1 = 12.0\n",
    "c = (c0,c1)\n",
    "print(c)\n",
    "\n",
    "# Return\n",
    "R = sum(c)\n",
    "# rete of return\n",
    "r = R / abs(c[0])\n",
    "print(f\"Return: {R}\")\n",
    "print(f\"Rate of return: {r}\")\n",
    "\n",
    "# Interest rate\n",
    "# Suppose I deposit my money to bank\n",
    "c0 = -10\n",
    "# According to deposit contract, after one year I will receive\n",
    "c1 = 11\n",
    "# to calculate the interest:\n",
    "I = c0 + c1\n",
    "# so the interest rate is\n",
    "ir = I / abs(c0)\n",
    "print(f\"Interest: {I}\")\n",
    "print(f\"Interest rate: {ir}\") \n",
    "\n",
    "# Present Value\n",
    "# fixes the interest rate / discount rate\n",
    "i = 0.1\n",
    "# define *discounting* function\n",
    "def D(c1):\n",
    "    return c1 / (1 + i)\n",
    "\n",
    "# net present value\n",
    "def NPV(c):\n",
    "    return c[0] + D(c[1])\n",
    "\n",
    "cA = (-10.5, 12.0)\n",
    "cB = (-10.5, 11)\n",
    "print(f\"NPV cA : {NPV(cA)}\")\n",
    "print(f\"NPV cB : {NPV(cB)}\")\n"
   ]
  },
  {
   "cell_type": "markdown",
   "metadata": {},
   "source": [
    "\n",
    "### Financial Assets\n",
    "Financial assets are financial instruments (“contracts”) that have a fixed price today and an uncertain price in one year. Think of a share in the equity of a firm that conducts an investment project. Such a share might be available at a price today of S 0 ∈ ℝ >0 . The price of the share in one year depends on the success of the investment project, i.e., whether a high cash inflow is observed in the u state or a low one in the d state. Formally, S u 1 , S d 1 ∈ ℝ ≥0 with S u 1 > S d 1 .\n",
    "\n",
    "### Risk\n",
    "Often it is impilicitly assumed that the two states of the economy are equally likely. This is a frequentist point of view, according to which probabilities for a state to materialize are calculated based on the frequency the state is observed divided by the total number of experiments leading to observations.\n",
    "\n",
    "- Probability Measure\n",
    "    : the probabilities for events that are phisically possible together form a probability measure.\n",
    "\n",
    "- Expectation\n",
    "    : The expectation can be interpreted as the weighted average, where the weights are given by the probabilities. It is an average since the probabilities add up to one.\n",
    "    \n",
    "- Expected Return\n",
    "    \n",
    "- Volatility\n",
    "    : In finance, volatility refers to the degree of variation or fluctuation in the price or value of a financial instrument, such as a stock, bond, or market index, over a specific period of time. It is a statistical measure that quantifies the dispersion or variability of returns or prices. The volatility is defined as the standard deviation of the return rates, which is the square root of the variance"
   ]
  },
  {
   "cell_type": "code",
   "execution_count": 32,
   "metadata": {},
   "outputs": [
    {
     "name": "stdout",
     "output_type": "stream",
     "text": [
      "expectation value: 11.0\n",
      "expected return: -2.4800000000000004\n",
      "Volatility: 0.5486857023834318\n"
     ]
    }
   ],
   "source": [
    "# Expectation\n",
    "# measuring expectation from given probability state\n",
    "# 1. define probability state\n",
    "import numpy as np\n",
    "# P(p, (1-p))\n",
    "P = np.array([0.4,0.6])\n",
    "# 2. define S0, initial state or the price of the financial asset today\n",
    "S0 = 10\n",
    "# 3. define the future inflow from 2 different state S(S_u, S_d)\n",
    "S1 = np.array((20,5))\n",
    "# 4. Calc. expectation value\n",
    "exp_s1 = np.dot(P,S1)\n",
    "print(f\"expectation value: {exp_s1}\")\n",
    "\n",
    "\n",
    "# Expected Return\n",
    "def ER(x0, x1):\n",
    "    return np.dot(P, x1) - x0\n",
    "\n",
    "# define function for expected rate of return\n",
    "def ERR(x0, x1):\n",
    "    return ER(x0, x1) / x0\n",
    "\n",
    "# define P\n",
    "P = np.array([0.4,0.6])\n",
    "\n",
    "# x0 : initial investment\n",
    "x0 = 10\n",
    "x1 = np.array([0.8,12.0])\n",
    "expected_return = ER(x0, x1)\n",
    "print(f\"expected return: {expected_return}\")\n",
    "\n",
    "\n",
    "\n",
    "# volatility\n",
    "# 1. define rate of return\n",
    "def r(x0, x1):\n",
    "    return (x1 - x0) / x0\n",
    "# 2. define expected rate of return\n",
    "def err(P, x0,x1):\n",
    "    return np.dot(P, r(x0,x1))\n",
    "# 3. define variance of the rates of return\n",
    "def sigma2(P, x0, x1):\n",
    "    rate_return = r(x0,x1)\n",
    "    expected_rate = err(P, x0, x1)\n",
    "    return np.dot(P, (rate_return - expected_rate)**2)\n",
    "# 4. definition of volatity\n",
    "def sigma(P, x0, x1):\n",
    "    return np.sqrt(sigma2(P, x0, x1))\n",
    "\n",
    "print(f\"Volatility: {sigma(P, x0, x1)}\")"
   ]
  },
  {
   "cell_type": "markdown",
   "metadata": {},
   "source": [
    "### Contingent Claims\n",
    "Suppose now that a contingent claim is traded in the economy. This is a financial asset formalized by some contract—that offers a state-contingent payoff one year from now. Such a contingent claim can have an arbitrary state-contingent payoff or one that is derived from the payoff of other financial assets. In the latter case, one generally speaks of derivative assets or derivative instruments.\n",
    "- Replication\n",
    "    : Mathematically, one speaks of the payoff vector of the contingent claim being linearly dependent or linearly independent.\n",
    "- Arbitrage Pricing\n",
    "    : Having a portfolio available that perfectly replicates the future payoff of a contingent claim raises the next question: what if the price of the contingent claim today differs from the costs of setting up the replication portfolio? The answer is simple but serious: then there exists an arbitrage or arbitrage opportunity in the economy.Formally, the arbitrage price is the dot product of the replication portfolio and the price vector of the replicating financial assets"
   ]
  },
  {
   "cell_type": "code",
   "execution_count": 33,
   "metadata": {},
   "outputs": [
    {
     "name": "stdout",
     "output_type": "stream",
     "text": [
      "[-0.15151515  0.33333333]\n"
     ]
    }
   ],
   "source": [
    "# Replication\n",
    "# assume you have a Bond with B=(B0, B1)\n",
    "B = (10, np.array((11,11)))\n",
    "# and you also has a stock portfolio that has high risk than B, stock process denoted as S(S0,S1)\n",
    "S = (10, np.array((20,5)))\n",
    "# to calculate replication, we need define a matrix two dimensional array that will be the future payoff matrix\n",
    "# [[B1 S1_U][B1 S1_D]]\n",
    "M = np.array((B[1], S[1])).T\n",
    "# Fixes the strike price for the call option, denoted as K\n",
    "K = 15\n",
    "# and then... calculates the values for the payoff vector in one year\n",
    "C1 = np.maximum(S[1] - K, 0)\n",
    "\n",
    "# C1 is the numerical values of the payoff vector\n",
    "# then solves the replication problem in matrix form to obtain the optimal portfolio positions\n",
    "phi = np.linalg.solve(M, C1)\n",
    "print(phi)"
   ]
  },
  {
   "cell_type": "code",
   "execution_count": 34,
   "metadata": {},
   "outputs": [
    {
     "name": "stdout",
     "output_type": "stream",
     "text": [
      "1.8181818181818183\n"
     ]
    }
   ],
   "source": [
    "# Arbitrage Pricing\n",
    "C0 = np.dot(phi, (B[0],S[0]))\n",
    "print(C0)"
   ]
  },
  {
   "cell_type": "code",
   "execution_count": null,
   "metadata": {},
   "outputs": [],
   "source": []
  }
 ],
 "metadata": {
  "kernelspec": {
   "display_name": "Python 3.10.4 ('env_transformers')",
   "language": "python",
   "name": "python3"
  },
  "language_info": {
   "codemirror_mode": {
    "name": "ipython",
    "version": 3
   },
   "file_extension": ".py",
   "mimetype": "text/x-python",
   "name": "python",
   "nbconvert_exporter": "python",
   "pygments_lexer": "ipython3",
   "version": "3.10.4"
  },
  "orig_nbformat": 4,
  "vscode": {
   "interpreter": {
    "hash": "421b7d5a0d513d4298f04f3ef5d19ea0ceef689127afc938d11459669d7b87a4"
   }
  }
 },
 "nbformat": 4,
 "nbformat_minor": 2
}
